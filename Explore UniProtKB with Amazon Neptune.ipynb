{
 "cells": [
  {
   "cell_type": "markdown",
   "metadata": {},
   "source": [
    "Copyright Amazon.com, Inc. or its affiliates. All Rights Reserved.\n",
    "SPDX-License-Identifier: Apache-2.0"
   ]
  },
  {
   "cell_type": "markdown",
   "metadata": {},
   "source": [
    "# Exploring the UniProt protein knowledgebase with AWS Open Data and Amazon Neptune\n",
    "\n",
    "## Introduction \n",
    "The [Universal Protein Resource (UniProt)](https://www.uniprot.org/) is a widely used resource of protein data that is now available through the Registry of Open Data on AWS. Its centerpiece is the [UniProt Knowledgebase (UniProtKB)](https://www.uniprot.org/help/uniprotkb), a central hub for the collection of functional information on proteins, with accurate, consistent and rich annotation. UniProtKB data is highly structured with many relationships between protein sequences, annotations, ontologies and other related data sources. UniProt can be directly accessed via the [UniProt website](https://www.uniprot.org/) and is available for bulk downloads in several formats, including RDF which is particularly well suited to represent the complex and connected nature of the data as a graph. Creating a custom knowledgebase can enable more advanced use cases, such as joining with other data sources, augmenting data with custom annotations and relationships, or inferring new relationships with analytics or machine learning.\n",
    "\n",
    "In this example, we will demonstrate the step-by-step process to create and use your own protein knowledgebase using UniProt RDF data. We will show how to ingest a subset of UniProtKB data into your own Amazon Neptune database directly from the Registry of Open Data on AWS. We will then show how to query the data with SPARQL, create new relationships in the data and visualize the data as a graph.\n",
    "\n",
    "### Registry of Open Data on AWS\n",
    "The [Registry of Open Data](https://registry.opendata.aws/) on AWS makes it easy to find datasets made publicly available through AWS services. UniProt is made available through the Registry of Open Data via the [Open Data Sponsorship Program](https://aws.amazon.com/opendata/open-data-sponsorship-program/), which covers the cost of storage for publicly available high-value cloud-optimized datasets. UniProt is available in the registry as [RDF](https://www.w3.org/RDF/) files, a standard model for data interchange on the Web that is capable of capturing complex relationships within the data of the UniProtKB. To look for other datasets or learn more on publishing datasets, visit the [registry of open data on AWS](https://registry.opendata.aws/).\n",
    "\n",
    "### Amazon Neptune\n",
    "[Amazon Neptune](https://aws.amazon.com/neptune/) is a fast, reliable, fully managed graph database service that makes it easy to build and run applications that work with highly connected datasets. The core of Neptune is a purpose-built, high-performance graph database engine. This engine is optimized for storing billions of relationships and querying the graph with milliseconds latency. Neptune supports the popular graph query languages [Apache TinkerPop Gremlin](https://tinkerpop.apache.org/gremlin.html) and [W3C’s SPARQL](https://www.w3.org/TR/sparql11-overview/), enabling you to build queries that efficiently navigate highly connected datasets.\n",
    "\n",
    "### Creating a custom UniProtKB\n",
    "In this example, we select a list of UniProt RDF files that we are interested in exploring. Then we ingest the RDF files from the Open Data Registry on AWS into Amazon Neptune DB. Once the data is ingested, we demonstrate how to query relationships and attributes. By adapting this example to your own research needs, you should be able to build a subset of UniProtKB containing data for your specific use case. This example will also be the foundation of our follow-on example where we will use [Neptune ML](https://docs.aws.amazon.com/neptune/latest/userguide/machine-learning.html) to predict relationships and attributes in the UniProtKB."
   ]
  },
  {
   "cell_type": "markdown",
   "metadata": {},
   "source": [
    "## Brief overview of UniProt data\n",
    "UniProt RDF files are located in a public S3 bucket `s3://aws-open-data-uniprot-rdf`. There are different paths for each data release. New data releases typically happen every two months, so be sure to use the latest release directory. We use the first release of 2021, which has a path of `s3://aws-open-data-uniprot-rdf/2021-01`. For more information on the data, go to the [UniProt help pages](https://www.uniprot.org/help/). Here is a brief description for some of the different datasets and files.\n",
    "\n",
    "#### Taxonomy, Gene Ontology (GO) and other reference data\n",
    "UniProt uses several supporting reference datasets that contain related information and metadata. Among these are the [NCBI taxonomy](https://www.ncbi.nlm.nih.gov/taxonomy), for the hierarchical classification of organisms, and the [Gene Ontology (GO)](http://geneontology.org/docs/introduction-to-go-resource/), used to describe the current scientific knowledge about the functions of proteins. The GO is represented with the [Web Ontology Language (OWL)](https://en.wikipedia.org/wiki/Web%5FOntology%5FLanguage), which is used to define ontologies that describe taxonomies and classification networks, essentially defining the structure of a knowledge graph. OWL is also built upon RDF.\n",
    "\n",
    "\n",
    "| File      | Description |\n",
    "| ----------- | ----------- |\n",
    "| citations.rdf.gz     | Literature citations       |\n",
    "| diseases.rdf.gz    | Human diseases        |\n",
    "| journals.rdf.gz     | Journals which contain articles cited in UniProt       |\n",
    "| taxonomy.rdf.gz   | Organisms        |\n",
    "| keywords.rdf.gz     | Keywords       |\n",
    "| go.rdf.gz   | Gene Ontology        |\n",
    "| enzyme.rdf.gz      | Enzyme classification       |\n",
    "| pathways.rdf.gz   | Pathways        |\n",
    "| locations.rdf.gz     | Subcellular locations       |\n",
    "| tissues.rdf.gz  | Tissues        |\n",
    "| databases.rdf.gz    | Databases that are linked from UniProt       |\n",
    "| proteomes.rdf.gz   | Proteomes        |\n",
    "\n",
    "#### UniProt Knowledgebase (UniProtKB)\n",
    "The UniProt Knowledgebase (UniProtKB) is the central hub for the collection of functional information on proteins, with accurate, consistent and rich annotation. In addition to capturing the core data mandatory for each UniProtKB entry (mainly, the amino acid sequence, protein name, taxonomic data and citation information), as much additional annotation as possible is added. This includes widely accepted biological ontologies, classifications and cross-references, and clear indications of the quality of annotation in the form of evidence attribution of experimental and computational data. The UniProtKB dataset is split into files based on the top levels of the [NCBI taxonomy](https://www.ncbi.nlm.nih.gov/taxonomy) (the file name indicates the classification and ID of the taxon) that contain at most 1 million protein entries. Obsolete entries are provided in separate files with at most 10 million entries (uniprotkb_obsolete_\\*.rdf). For more information on the knowledgebase, see the [UniProtKB documentation](https://www.uniprot.org/help/uniprotkb).\n",
    "\n",
    "#### UniProt Sequence archive (UniParc)\n",
    "The UniProt Archive (UniParc) is a comprehensive and non-redundant database that contains most of the publicly available protein sequences in the world. Data is partitioned into files of around 1 Gigabyte in size depending on the size of the protein sequence. For more information on this archive, see the [UniParc documentation](https://www.uniprot.org/help/uniparc).\n",
    "\n",
    "#### UniProt Reference clusters (UniRef)\n",
    "The UniProt Reference Clusters (UniRef) provide clustered sets of sequences from the UniProtKB and selected UniParc records in order to obtain complete coverage of the sequence space at several resolutions while hiding redundant sequences. Unlike in UniParc, sequence fragments are merged in UniRef. The UniRef dataset is split into files that contain about 100,000 clusters each. For more information on reference clusters, see the [UniRef documentation](https://www.uniprot.org/help/uniref).\n",
    "\n",
    "#### What does the data look like?\n",
    "An RDF file is a document written in the Resource Description Framework (RDF) language, that was created to represent relationships between web resources. It’s also used to create ontologies for different domains. RDF contains information about an entity as structured metadata. RDF graphs contain statements with a subject, predicate and object, also known as a triple. The subject is the main actor, the predicate is the action or verb, and the object is what is acted upon. A triple can be used to associate a subject with a property or define a relationship between two subjects.\n",
    "\n",
    "As an illustration, let’s look at how the taxonomy is represented in RDF. In the RDF listing, we see that [taxonomy 9606](https://www.uniprot.org/taxonomy/9606) is defined as Homo Sapiens. Taxonomy 9606 is a subclass of [taxonomy 9605](https://www.uniprot.org/taxonomy/9605), defined as Homininae. The subject is *taxonomy 9606*, the predicate is *subclass* and the object is *taxonomy 9605*. In addition, taxonomy 9606 has a narrower transitive relationship to [taxonomy 63221](https://www.uniprot.org/taxonomy/63221), defined as Homo sapiens neanderthalensis, as well as [taxonomy 741158](https://www.uniprot.org/taxonomy/741158), defined as Homo sapiens subsp. 'Denisova'. Expressed in RDF terms, the subject is *taxonomy 9606*, the predicate is *narrower transitive relationship* and the objects are *taxonomy 63221* and *taxonomy 741158*.\n",
    "\n",
    "![image.png](./images/taxonRDF.png)"
   ]
  },
  {
   "cell_type": "markdown",
   "metadata": {},
   "source": [
    "## Load the UniProt data\n",
    "Instead of executing a large number of insert statements or other API calls, we use the [Amazon Neptune Bulk Loader](https://docs.aws.amazon.com/neptune/latest/userguide/bulk-load-data.html) to load a subset of UniProt RDF files directly from the public S3 bucket.\n",
    "\n",
    "### Accessing the data\n",
    "Before we can load data into the Neptune instance, we need an AWS Identity and Access Management (IAM) role that has access to the public bucket where the UniProt data resides. In addition, the Neptune loader requires a VPC endpoint for Amazon S3. For more information on bulk loading requirements, refer to the [Neptune documentation on bulk loading](https://docs.aws.amazon.com/neptune/latest/userguide/bulk-load.html). The IAM role and VPC endpoint have already been configured by our cloud formation template. We just need to define the role and endpoint settings."
   ]
  },
  {
   "cell_type": "code",
   "execution_count": null,
   "metadata": {},
   "outputs": [],
   "source": [
    "import os\n",
    "iamRoleArn = os.environ['NEPTUNE_LOAD_FROM_S3_ROLE_ARN']\n",
    "neptune_host = os.environ['GRAPH_NOTEBOOK_HOST']\n",
    "neptune_port = os.environ['GRAPH_NOTEBOOK_PORT']\n",
    "url = f'https://{neptune_host}:{neptune_port}/loader'"
   ]
  },
  {
   "cell_type": "markdown",
   "metadata": {},
   "source": [
    "### Determine the files to load\n",
    "The entire UniProt dataset is over 10 Terabytes uncompressed, and is growing rapidly. To save on time and cost, we only load the data that is relevant to our use case. Loading the complete UniProtKB will take around 74 hours, as the ingestion rate is around 6.6 GB per hour. The majority of loading cost is for the large DB writer instance. Using an r5.8xlarge, the cost is 6.46 USD per hour, so the cost of writing the entire UniProt dataset would be around 478 USD. For this example, we only load a single RDF file for Metazoa and the taxonomy and Gene Ontology files. This keeps our total loading time to under one hour, and the cost below 10 USD.\n",
    "These are the files to load:\n",
    "- **taxonomy.rdf.gz** - the taxonomy file\n",
    "- **go.rdf.gz** - the Gene Ontology file\n",
    "- **uniprotkb_eukaryota_opisthokonta_metazoa_33208_0.rdf.gz** - a single UniProtKB file for Metazoa"
   ]
  },
  {
   "cell_type": "code",
   "execution_count": null,
   "metadata": {},
   "outputs": [],
   "source": [
    "import json\n",
    "import urllib.request\n",
    "\n",
    "# define a list of files to be loaded\n",
    "files_to_load = [\n",
    "    \"s3://aws-open-data-uniprot-rdf/2021-01/supporting/taxonomy.rdf.gz\",\n",
    "    \"s3://aws-open-data-uniprot-rdf/2021-01/supporting/go.rdf.gz\",\n",
    "    \"s3://aws-open-data-uniprot-rdf/2021-01/uniprot/uniprotkb_eukaryota_opisthokonta_metazoa_33208_0.rdf.gz\"\n",
    "]"
   ]
  },
  {
   "cell_type": "markdown",
   "metadata": {},
   "source": [
    "### Execute the bulk load command\n",
    "Now we have all the information needed to execute the bulk load command. In the code below we define a function that:\n",
    "1.\tCreates a json string of parameters required by the bulk loader command\n",
    "2.\tCreates and sends an http request to the bulk loader endpoint\n",
    "3.\tReturns bulk load tracking IDs that will be used to track the loading process\n",
    "\n",
    "We call this function for every file we wish to load. The entire loading process will take approximately 50 minutes. Times will vary depending on the region and the number and size of the datasets loaded.\n",
    "\n",
    "Loading can also be accomplished with the %load command within the workbench. The load command works well for smaller files, but for loading large files, it makes it difficult to monitor the load process as it locks the entire notebook. "
   ]
  },
  {
   "cell_type": "code",
   "execution_count": null,
   "metadata": {},
   "outputs": [],
   "source": [
    "loadids = []\n",
    "\n",
    "def loadfile(filelocation):\n",
    "    data = {\n",
    "      \"source\" : filelocation,\n",
    "      \"format\" : \"rdfxml\",\n",
    "      \"iamRoleArn\" : iamRoleArn,\n",
    "      \"region\" : \"eu-west-3\",\n",
    "      \"failOnError\" : \"FALSE\",\n",
    "      \"parallelism\" : \"OVERSUBSCRIBE\",\n",
    "      \"queueRequest\" : \"TRUE\"\n",
    "    }\n",
    "\n",
    "    data = json.dumps(data)\n",
    "\n",
    "    req = urllib.request.Request(url = url, data = bytes(data.encode(\"utf-8\")), method = \"POST\")\n",
    "\n",
    "    req.add_header(\"Content-type\", \"application/json; charset=UTF-8\")\n",
    "\n",
    "    with urllib.request.urlopen(req) as resp:\n",
    "        response_data = json.loads(resp.read().decode(\"utf-8\"))\n",
    "        loadId=response_data['payload']['loadId']\n",
    "        \n",
    "    print(\"load id: {}\".format(loadId))\n",
    "    loadids.append(loadId)\n",
    "    return loadids\n",
    "    \n",
    "for file in files_to_load:\n",
    "    loadids = loadfile(file)"
   ]
  },
  {
   "cell_type": "markdown",
   "metadata": {},
   "source": [
    "### Monitor loading\n",
    "Graph data comes in triples, which is the relationship between two nodes via an edge. Here are some metrics we captured during our previous load of the above files.\n",
    "\n",
    "| File | File Size  | Triples | Approximate Load Time in Seconds |\n",
    "| ----------- | ----------- | ----------- | ----------- |\n",
    "| taxonomy.rdf.gz | 50.5MB   | 15950018 | 100 |\n",
    "| go.rdf.gz | 3.3MB     | 381392  | 10 |\n",
    "| uniprotkb_eukaryota_opisthokonta_metazoa_33208_0.rdf | 3.45GB   | 344412243 | 1900 |\n",
    "\n",
    "\n",
    "Here is an estimation for a full load of all supporting files and UniProtKB data:\n",
    "\n",
    "| File Directory | Number of Files | Total File Size  |  Approximate Load Time |\n",
    "| ----------- | ----------- | ----------- |  ----------- |\n",
    "| supporting/* |16   | 8.2 GB   | 1.25 hours |\n",
    "| uniprot/*    | 275 | 482 GB   | 73 hours  |\n",
    "\n",
    "Loading can take some time, so it's convenient to have a way to monitor the loading progress. The code below calls the Neptune endpoint with the load IDs we saved previously, and returns a status update on the bulk loading process for each file."
   ]
  },
  {
   "cell_type": "code",
   "execution_count": null,
   "metadata": {},
   "outputs": [],
   "source": [
    "import time\n",
    "for load_id in loadids:\n",
    "    req = urllib.request.Request(url = \"/\".join([url, load_id]), method = \"GET\")\n",
    "    req.add_header(\"Content-type\", \"application/json; charset=UTF-8\")\n",
    "    \n",
    "    status = None\n",
    "    while status != 'LOAD_COMPLETED':\n",
    "        with urllib.request.urlopen(req) as resp:\n",
    "            response_data = json.loads(resp.read().decode(\"utf-8\"))['payload']\n",
    "\n",
    "        status = response_data['overallStatus']['status']\n",
    "        totalTimeSpent = response_data['overallStatus']['totalTimeSpent']\n",
    "        totalRecords = response_data['overallStatus']['totalRecords']\n",
    "        end = '\\n' if status == 'LOAD_COMPLETED' else '\\r'\n",
    "        print(f\"{load_id}  status: {status} \\tload time: {totalTimeSpent}s\\trecords: {totalRecords}\", end=end)\n",
    "        time.sleep(1)"
   ]
  },
  {
   "cell_type": "markdown",
   "metadata": {},
   "source": [
    "### Downsize the Neptune instance\n",
    "\n",
    "Once all the data is loaded, we no longer need a large writer instance, as we will mostly be reading from the database. It's recommended that you resize the Neptune database to a smaller instance after you finish loading the files to save on running costs.\n",
    "\n",
    "From the Neptune Console, go to *Databases*, choose the Neptune Writer and then click *Modify*. \n",
    "\n",
    "![image.png](./images/step-1.png)\n",
    "\n",
    "In the list of presented DB instance classes, select *db.r5.large*, the smallest instance available, and then click *Continue*.\n",
    "\n",
    "![image.png](./images/step-2.png)\n",
    "![image.png](./images/step-2a.png)\n",
    "\n",
    "On the next page, choose *Apply immediately*, and click the *Modify DB Instance* button.\n",
    "\n",
    "![image.png](./images/step-3.png)\n",
    "\n",
    "Your Neptune DB instance is now cost optimized for querying. For more information, refer to the steps in the [Neptune Developer Guide](https://docs.aws.amazon.com/neptune/latest/userguide/manage-console-modify.html#manage-console-modify-instance)."
   ]
  },
  {
   "cell_type": "markdown",
   "metadata": {},
   "source": [
    "## Querying the UniProtKB\n",
    "Now that we have the loaded the UniProt data, we can query it with SPARQL, a query language for graph data in RDF format. Amazon Neptune is compatible with SPARQL 1.1. If you are used to standard SQL queries, working with SPARQL should be familiar to you. A SPARQL query contains:\n",
    "- Prefixes to abbreviate URIs\n",
    "- Dataset declaration to specify the graphs being queried\n",
    "- SELECT clause that determines which attributes to return\n",
    "- WHERE clause that specifies matching criteria\n",
    "- Query modifiers for ordering results\n",
    "\n",
    "If you are unfamiliar with SPARQL queries, see [Writing Simple Queries](https://www.w3.org/TR/sparql11-query/#WritingSimpleQueries) or the full guide in the [SPARQL 1.1 Query Language documentation](https://www.w3.org/TR/sparql11-query/).\n",
    "\n",
    "Let's do some example queries, so you can get an idea of how SPARQL works with UniProtKB."
   ]
  },
  {
   "cell_type": "markdown",
   "metadata": {},
   "source": [
    "### Example 1:  Simple Query\n",
    "\n",
    "Let's start with a simple query. In this query, we will look within the taxonomy tree, to see if there are any subclass records under *Homo Sapiens*. *Homo Sapiens* are coded with a taxonomy id of [9606](https://www.uniprot.org/taxonomy/9606). Let's query the web URI and scientific name of the subclass records. "
   ]
  },
  {
   "cell_type": "code",
   "execution_count": null,
   "metadata": {},
   "outputs": [],
   "source": [
    "%%sparql\n",
    "PREFIX rdfs: <http://www.w3.org/2000/01/rdf-schema#>\n",
    "PREFIX taxon: <http://purl.uniprot.org/taxonomy/>\n",
    "PREFIX up: <http://purl.uniprot.org/core/>\n",
    "SELECT ?taxonomy ?scientific_name\n",
    "WHERE {\n",
    "    ?taxonomy a up:Taxon ;\n",
    "             up:scientificName ?scientific_name ;\n",
    "             rdfs:subClassOf taxon:9606 .\n",
    "} "
   ]
  },
  {
   "cell_type": "markdown",
   "metadata": {},
   "source": [
    "The query returns two records, *Homo Sapiens Neanderthalensis* and *Homo Sapiens Subsp. 'Denisova'* , which are found under the taxonomy of *Homo Sapiens*. For taxonomy identifiers of other organisms, you may trace from the top node of [cellular organisms](https://www.uniprot.org/taxonomy/131567)."
   ]
  },
  {
   "cell_type": "markdown",
   "metadata": {},
   "source": [
    "### Example 2: Query proteins and their related Gene Onotology (GO) code\n",
    "\n",
    "Now let's find all the *Homo Sapiens* related proteins that have a [Gene Ontology (GO)](http://geneontology.org) code. The Gene Ontology describes biological concepts with respect to molecular function, cellular components and biological processes. We will use the [9606](https://www.uniprot.org/taxonomy/9606) taxonomy code for \"*Homo Sapiens*\". Instead of displaying the full IRI for each protein, we will use it's mnemonic value.  Since there are so many entries, we will also limit the query results to 10 rows. "
   ]
  },
  {
   "cell_type": "code",
   "execution_count": null,
   "metadata": {},
   "outputs": [],
   "source": [
    "%%sparql\n",
    "PREFIX rdfs: <http://www.w3.org/2000/01/rdf-schema#>\n",
    "PREFIX taxon: <http://purl.uniprot.org/taxonomy/>\n",
    "PREFIX up: <http://purl.uniprot.org/core/>\n",
    "SELECT ?protein ?proteinMnemonic ?go \n",
    "WHERE {\n",
    "    ?protein a up:Protein ;       \n",
    "             up:mnemonic ?proteinMnemonic ;\n",
    "             up:organism taxon:9606 ;\n",
    "             up:classifiedWith ?go .\n",
    "    ?go a owl:Class .\n",
    "}\n",
    "LIMIT 10"
   ]
  },
  {
   "cell_type": "markdown",
   "metadata": {},
   "source": [
    "The query returns the proteins along with the respective GO IRI. Any proteins without a GO code will not be returned."
   ]
  },
  {
   "cell_type": "markdown",
   "metadata": {},
   "source": [
    "### Example 3: Filter proteins by GO description\n",
    "\n",
    "We can further filter the proteins by pattern matching its GO description. For this query, we will list all the *Homo Sapiens* proteins classified with \"*cholesterol biosynthetic process*\". To do this, we  add a filter condition containing a regular expression of the GO label. We will also parse the GO IRI so it is easier to read in the  returned results."
   ]
  },
  {
   "cell_type": "code",
   "execution_count": null,
   "metadata": {},
   "outputs": [],
   "source": [
    "%%sparql\n",
    "PREFIX rdfs: <http://www.w3.org/2000/01/rdf-schema#>\n",
    "PREFIX taxon: <http://purl.uniprot.org/taxonomy/>\n",
    "PREFIX up: <http://purl.uniprot.org/core/>\n",
    "PREFIX go: <http://purl.obolibrary.org/obo/>\n",
    "SELECT ?proteinMnemonic ?goCode ?label\n",
    "WHERE {\n",
    "    ?protein a up:Protein ;  \n",
    "             up:mnemonic ?proteinMnemonic ;\n",
    "             up:organism taxon:9606 ;\n",
    "             up:classifiedWith ?go .                           \n",
    "    ?go a owl:Class ;\n",
    "        rdfs:label ?label .\n",
    "    \n",
    "    BIND(STRAFTER(STR(?go), \"obo/\") AS ?goCode)\n",
    "    FILTER (REGEX(?label, \"^cholesterol biosynthetic\", \"i\"))\n",
    "}\n",
    "ORDER BY ?proteinMnemonic ?go\n",
    "LIMIT 50"
   ]
  },
  {
   "cell_type": "markdown",
   "metadata": {},
   "source": [
    "### Example 4: Find ancestor GO codes\n",
    "\n",
    "We can also query the ancestor GO codes of proteins. Ancestor GO codes are represented by subclass relationships from a GO code to its ancestors. For example, GO code [0006695](https://www.ebi.ac.uk/QuickGO/term/GO:0006695) is termed as the *“cholesterol biosynthetic process”* and has a *subClassOf* relation to the GO codes [0008203](https://www.ebi.ac.uk/QuickGO/term/GO:0008203), termed the *“cholesterol metabolic process”*, and [1902653](https://www.ebi.ac.uk/QuickGO/term/GO:1902653), termed the *“secondary alcohol biosynthetic process”*."
   ]
  },
  {
   "cell_type": "code",
   "execution_count": null,
   "metadata": {},
   "outputs": [],
   "source": [
    "%%sparql\n",
    "PREFIX rdfs: <http://www.w3.org/2000/01/rdf-schema#>\n",
    "PREFIX taxon: <http://purl.uniprot.org/taxonomy/>\n",
    "PREFIX up: <http://purl.uniprot.org/core/>\n",
    "PREFIX go: <http://purl.obolibrary.org/obo/>\n",
    "SELECT ?proteinMnemonic ?goCode ?ancestorGoCode ?ancestorLabel\n",
    "WHERE {\n",
    "    BIND(<http://purl.uniprot.org/uniprot/Q9UBM7> AS ?protein)\n",
    "    ?protein up:mnemonic ?proteinMnemonic ;\n",
    "             up:classifiedWith ?go .   \n",
    "    \n",
    "    ?go a owl:Class ;\n",
    "        rdfs:label ?label ;\n",
    "        rdfs:subClassOf ?ancestorGo .\n",
    "    \n",
    "    ?ancestorGo a owl:Class ;\n",
    "        rdfs:label ?ancestorLabel .\n",
    "    \n",
    "    BIND(STRAFTER(STR(?go), \"obo/\") AS ?goCode)\n",
    "    BIND(STRAFTER(STR(?ancestorGo), \"obo/\") AS ?ancestorGoCode)\n",
    "    FILTER (REGEX(?label, \"^cholesterol biosynthetic\", \"i\"))\n",
    "    \n",
    "    MINUS {\n",
    "       ?protein up:classifiedWith ?ancestorGo .\n",
    "   }\n",
    "}\n",
    "ORDER BY ?proteinMnemonic ?go"
   ]
  },
  {
   "cell_type": "markdown",
   "metadata": {},
   "source": [
    "### Example 5:  Visualize a proteins Gene Ontology (GO)\n",
    "\n",
    "To visualize the data for a protein in the \"Graph\" tab, we must construct a graph with the links between a protein and its GO codes and ancestor GO codes. We can create these relationships by using the [CONSTRUCT](https://www.w3.org/TR/sparql11-query/#construct) operation which returns a graph with selected triples. For this example, we will only show 20 of the GO codes for the [DHCR7](https://www.uniprot.org/uniprot/Q9UBM7) protein."
   ]
  },
  {
   "cell_type": "code",
   "execution_count": null,
   "metadata": {
    "scrolled": false
   },
   "outputs": [],
   "source": [
    "%%sparql\n",
    "PREFIX rdfs: <http://www.w3.org/2000/01/rdf-schema#>\n",
    "PREFIX taxon: <http://purl.uniprot.org/taxonomy/>\n",
    "PREFIX up: <http://purl.uniprot.org/core/>\n",
    "PREFIX go: <http://purl.obolibrary.org/obo/>\n",
    "PREFIX sc: <http://example.org/shortcuts/>\n",
    "\n",
    "CONSTRUCT {\n",
    "    ?protein rdfs:label ?proteinMnemonic ;\n",
    "        up:classifiedWith ?go .\n",
    "    \n",
    "    ?go rdfs:label ?label ;\n",
    "        rdfs:subClassOf ?ancestorGo .\n",
    "    \n",
    "    ?ancestorGo rdfs:label ?ancestorLabel .\n",
    "} WHERE {\n",
    "    BIND(<http://purl.uniprot.org/uniprot/Q9UBM7> AS ?protein)\n",
    "    \n",
    "    ?protein up:mnemonic ?proteinMnemonic ;\n",
    "        up:classifiedWith ?go .\n",
    "    \n",
    "    ?go a owl:Class ;\n",
    "        rdfs:label ?label ;\n",
    "        rdfs:subClassOf ?ancestorGo .\n",
    "    \n",
    "    ?ancestorGo a owl:Class ;\n",
    "        rdfs:label ?ancestorLabel .\n",
    "    \n",
    "    MINUS {\n",
    "       ?protein up:classifiedWith ?ancestorGo .\n",
    "   }\n",
    "}\n",
    "ORDER BY ?go"
   ]
  },
  {
   "cell_type": "markdown",
   "metadata": {},
   "source": [
    "### Example 6: Adding data from Rhea to your Neptune Instance.\n",
    "\n",
    "[Rhea](https://www.rhea-db.org/) is an expert-curated knowledgebase of chemical and transport reactions of biological interest, and the standard for enzyme and transporter annotation in UniProtKB. Here in this example, we will use the public [SPARQL endpoint of Rhea](https://sparql.rhea-db.org/sparql) to enrich your Neptune instance with data from Rhea using the CONSTRUCT operation.\n",
    "\n",
    "Starting with protein [DHCR7_HUMAN](https://www.uniprot.org/uniprot/Q9UBM7), a reductase that catalyzes two reactions in the cholesterol biosynthetic pathway, we will demonstrate how to fetch the identifiers of all compounds that are metabolized by the enzyme (i.e. the chemical compounds of the enzyme-catalyzed reactions), and then create links between the protein in UniProtKB and the chemical compounds from Rhea. \n",
    "\n",
    "The Rhea data is an external data store, so we use a [federated query](https://www.w3.org/TR/2013/REC-sparql11-federated-query-20130321/) with the [SERVICE](https://www.w3.org/TR/2013/REC-sparql11-federated-query-20130321/) keyword."
   ]
  },
  {
   "cell_type": "code",
   "execution_count": null,
   "metadata": {},
   "outputs": [],
   "source": [
    "%%sparql\n",
    "PREFIX rdfs: <http://www.w3.org/2000/01/rdf-schema#>\n",
    "PREFIX rh: <http://rdf.rhea-db.org/>\n",
    "PREFIX up: <http://purl.uniprot.org/core/>\n",
    "\n",
    "CONSTRUCT {\n",
    "    ?protein rdfs:label ?proteinMnemonic ;\n",
    "        rh:chebi ?chemical .\n",
    "    ?chemical rdfs:label ?label .\n",
    "}\n",
    "WHERE {\n",
    "    BIND(<http://purl.uniprot.org/uniprot/Q9UBM7> AS ?protein)\n",
    "    \n",
    "    ?protein up:mnemonic ?proteinMnemonic ;\n",
    "        up:annotation ?annotation .\n",
    "    \n",
    "    ?annotation a up:Catalytic_Activity_Annotation ;\n",
    "        up:catalyticActivity/up:catalyzedReaction ?catalyzedReaction .\n",
    "    \n",
    "    SERVICE <https://sparql.rhea-db.org/sparql> {\n",
    "        ?catalyzedReaction rdfs:subClassOf rh:Reaction ;\n",
    "                  rh:status rh:Approved ;                \n",
    "                  rh:side ?reactionSide .\n",
    "        \n",
    "        ?reactionSide rh:contains ?participant .       \n",
    "        ?participant rh:compound ?compound .       \n",
    "        ?compound rh:chebi ?chemical .\n",
    "        ?chemical rdfs:label ?label .\n",
    "    }\n",
    "}"
   ]
  },
  {
   "cell_type": "markdown",
   "metadata": {},
   "source": [
    "# Conclusion\n",
    "In this example notebook, we have demonstrated some simple ways to create and use your own protein knowledgebase using the UniProt data available on AWS Open Registry of Data and Amazon Neptune. If you would like to explore further, you can easily run this yourself in your own account. Some other things to try would be joining to other graph databases using federated queries, querying features to train machine learning models, or inferring links with Neptune ML.\n"
   ]
  },
  {
   "cell_type": "markdown",
   "metadata": {},
   "source": [
    "# **Danger Zone**\n",
    "\n",
    "Use the following code to reset the database\n",
    "\n"
   ]
  },
  {
   "cell_type": "code",
   "execution_count": null,
   "metadata": {},
   "outputs": [],
   "source": [
    "%db_reset"
   ]
  }
 ],
 "metadata": {
  "kernelspec": {
   "display_name": "Python 3",
   "language": "python",
   "name": "python3"
  },
  "language_info": {
   "codemirror_mode": {
    "name": "ipython",
    "version": 3
   },
   "file_extension": ".py",
   "mimetype": "text/x-python",
   "name": "python",
   "nbconvert_exporter": "python",
   "pygments_lexer": "ipython3",
   "version": "3.9.4"
  }
 },
 "nbformat": 4,
 "nbformat_minor": 2
}
